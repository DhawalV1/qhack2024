{
  "nbformat": 4,
  "nbformat_minor": 0,
  "metadata": {
    "colab": {
      "provenance": [],
      "authorship_tag": "ABX9TyN7g0RLNl2XEXSgvQDPI+V2",
      "include_colab_link": true
    },
    "kernelspec": {
      "name": "python3",
      "display_name": "Python 3"
    },
    "language_info": {
      "name": "python"
    }
  },
  "cells": [
    {
      "cell_type": "markdown",
      "metadata": {
        "id": "view-in-github",
        "colab_type": "text"
      },
      "source": [
        "<a href=\"https://colab.research.google.com/github/DhawalV1/qhack2024/blob/main/Electronic_structure_ground_state.ipynb\" target=\"_parent\"><img src=\"https://colab.research.google.com/assets/colab-badge.svg\" alt=\"Open In Colab\"/></a>"
      ]
    },
    {
      "cell_type": "code",
      "execution_count": null,
      "metadata": {
        "id": "GpFEtMV6mh3t"
      },
      "outputs": [],
      "source": [
        "pip install qiskit==0.44.0"
      ]
    },
    {
      "cell_type": "code",
      "source": [
        "pip install qiskit-nature"
      ],
      "metadata": {
        "id": "6YE2VKUOmrck"
      },
      "execution_count": null,
      "outputs": []
    },
    {
      "cell_type": "code",
      "source": [
        "pip install --prefer-binary pyscf"
      ],
      "metadata": {
        "id": "rTw1BpQ5m2is"
      },
      "execution_count": null,
      "outputs": []
    },
    {
      "cell_type": "code",
      "source": [
        "from qiskit import *\n",
        "## Obtaining the hamiltonian (energy operator)\n",
        "from qiskit_nature.units import DistanceUnit\n",
        "from qiskit_nature.second_q.drivers import PySCFDriver, Psi4Driver\n",
        "# NOTE From hwa: PySCF runs only on all Linux, and some MacOS; No support for Windows\n",
        "\n",
        "driver = PySCFDriver(\n",
        "    atom=\"H 0 0 0; H 0 0 0.735\",\n",
        "    basis=\"sto3g\",\n",
        "    charge=0,\n",
        "    spin=0,\n",
        "    unit=DistanceUnit.ANGSTROM,\n",
        ")"
      ],
      "metadata": {
        "id": "ShQr-SoynAmm"
      },
      "execution_count": 4,
      "outputs": []
    },
    {
      "cell_type": "code",
      "source": [
        "problem = driver.run()\n",
        "print(problem)\n",
        "problem.__dict__"
      ],
      "metadata": {
        "colab": {
          "base_uri": "https://localhost:8080/"
        },
        "id": "FQqAvJrRnEz2",
        "outputId": "90b44497-df65-4192-f480-0d079c1c43ab"
      },
      "execution_count": 13,
      "outputs": [
        {
          "output_type": "stream",
          "name": "stdout",
          "text": [
            "<qiskit_nature.second_q.problems.electronic_structure_problem.ElectronicStructureProblem object at 0x78dfb3c58790>\n"
          ]
        },
        {
          "output_type": "execute_result",
          "data": {
            "text/plain": [
              "{'_hamiltonian': <qiskit_nature.second_q.hamiltonians.electronic_energy.ElectronicEnergy at 0x78dfb3c584c0>,\n",
              " 'properties': <qiskit_nature.second_q.problems.electronic_properties_container.ElectronicPropertiesContainer at 0x78dfb3c5a1a0>,\n",
              " 'molecule': MoleculeInfo(symbols=['H', 'H'], coords=[(0.0, 0.0, 0.0), (0.0, 0.0, 1.3889487015553204)], multiplicity=1, charge=0, units=<DistanceUnit.BOHR: 'Bohr'>, masses=[1, 1]),\n",
              " 'basis': <ElectronicBasis.MO: 'molecular'>,\n",
              " '_num_particles': (1, 1),\n",
              " 'num_spatial_orbitals': 2,\n",
              " '_orbital_occupations': None,\n",
              " '_orbital_occupations_b': None,\n",
              " 'reference_energy': -1.116998996754004,\n",
              " 'orbital_energies': array([-0.58062892,  0.67633625]),\n",
              " 'orbital_energies_b': None}"
            ]
          },
          "metadata": {},
          "execution_count": 13
        }
      ]
    },
    {
      "cell_type": "code",
      "source": [],
      "metadata": {
        "id": "On9j2G_rseso"
      },
      "execution_count": null,
      "outputs": []
    },
    {
      "cell_type": "code",
      "source": [
        "hamiltonian = problem.hamiltonian\n",
        "\n",
        "coefficients = hamiltonian.electronic_integrals\n",
        "print(coefficients.alpha)"
      ],
      "metadata": {
        "colab": {
          "base_uri": "https://localhost:8080/"
        },
        "id": "O__RTZF0nkBZ",
        "outputId": "1b0da0a4-895b-4e8b-a097-11d08f27f3e0"
      },
      "execution_count": 28,
      "outputs": [
        {
          "output_type": "stream",
          "name": "stdout",
          "text": [
            "Polynomial Tensor\n",
            " \"+-\":\n",
            "array([[-1.25633907e+00, -1.37083854e-17],\n",
            "       [-6.07732712e-17, -4.71896007e-01]])\n",
            " \"++--\":\n",
            "array([6.75710155e-01, 1.39486891e-16, 1.80931200e-01, 6.64581730e-01,\n",
            "       2.57172666e-16, 6.98573723e-01])\n"
          ]
        }
      ]
    },
    {
      "cell_type": "code",
      "source": [
        "second_q_op = hamiltonian.second_q_op()\n",
        "print(second_q_op)"
      ],
      "metadata": {
        "colab": {
          "base_uri": "https://localhost:8080/"
        },
        "id": "VsfgwmRlsyZV",
        "outputId": "282d5c66-c4cf-4d3b-d342-d2a1c2da5fb1"
      },
      "execution_count": 30,
      "outputs": [
        {
          "output_type": "stream",
          "name": "stdout",
          "text": [
            "Fermionic Operator\n",
            "number spin orbitals=4, number terms=36\n",
            "  0.33785507740175813 * ( +_0 +_0 -_0 -_0 )\n",
            "+ 0.33229086512764816 * ( +_0 +_1 -_1 -_0 )\n",
            "+ 0.33785507740175813 * ( +_0 +_2 -_2 -_0 )\n",
            "+ 0.33229086512764816 * ( +_0 +_3 -_3 -_0 )\n",
            "+ 0.0904655998921157 * ( +_0 +_0 -_1 -_1 )\n",
            "+ 0.0904655998921157 * ( +_0 +_1 -_0 -_1 )\n",
            "+ 0.0904655998921157 * ( +_0 +_2 -_3 -_1 )\n",
            "+ 0.0904655998921157 * ( +_0 +_3 -_2 -_1 )\n",
            "+ 0.0904655998921157 * ( +_1 +_0 -_1 -_0 )\n",
            "+ 0.0904655998921157 * ( +_1 +_1 -_0 -_0 )\n",
            "+ 0.0904655998921157 * ( +_1 +_2 -_3 -_0 )\n",
            "+ 0.0904655998921157 * ( +_1 +_3 -_2 -_0 )\n",
            "+ 0.33229086512764816 * ( +_1 +_0 -_0 -_1 )\n",
            "+ 0.34928686136600906 * ( +_1 +_1 -_1 -_1 )\n",
            "+ 0.33229086512764816 * ( +_1 +_2 -_2 -_1 )\n",
            "+ 0.34928686136600906 * ( +_1 +_3 -_3 -_1 )\n",
            "+ 0.33785507740175813 * ( +_2 +_0 -_0 -_2 )\n",
            "+ 0.33229086512764816 * ( +_2 +_1 -_1 -_2 )\n",
            "+ 0.33785507740175813 * ( +_2 +_2 -_2 -_2 )\n",
            "+ 0.33229086512764816 * ( +_2 +_3 -_3 -_2 )\n",
            "+ 0.0904655998921157 * ( +_2 +_0 -_1 -_3 )\n",
            "+ 0.0904655998921157 * ( +_2 +_1 -_0 -_3 )\n",
            "+ 0.0904655998921157 * ( +_2 +_2 -_3 -_3 )\n",
            "+ 0.0904655998921157 * ( +_2 +_3 -_2 -_3 )\n",
            "+ 0.0904655998921157 * ( +_3 +_0 -_1 -_2 )\n",
            "+ 0.0904655998921157 * ( +_3 +_1 -_0 -_2 )\n",
            "+ 0.0904655998921157 * ( +_3 +_2 -_3 -_2 )\n",
            "+ 0.0904655998921157 * ( +_3 +_3 -_2 -_2 )\n",
            "+ 0.33229086512764816 * ( +_3 +_0 -_0 -_3 )\n",
            "+ 0.34928686136600906 * ( +_3 +_1 -_1 -_3 )\n",
            "+ 0.33229086512764816 * ( +_3 +_2 -_2 -_3 )\n",
            "+ 0.34928686136600906 * ( +_3 +_3 -_3 -_3 )\n",
            "+ -1.25633907300325 * ( +_0 -_0 )\n",
            "+ -0.47189600728114184 * ( +_1 -_1 )\n",
            "+ -1.25633907300325 * ( +_2 -_2 )\n",
            "+ -0.47189600728114184 * ( +_3 -_3 )\n"
          ]
        }
      ]
    },
    {
      "cell_type": "code",
      "source": [
        "hamiltonian.nuclear_repulsion_energy"
      ],
      "metadata": {
        "colab": {
          "base_uri": "https://localhost:8080/"
        },
        "id": "kqqgHPfGs5PP",
        "outputId": "9c943c72-454c-4297-a3b6-bda8ffd06fb2"
      },
      "execution_count": 31,
      "outputs": [
        {
          "output_type": "execute_result",
          "data": {
            "text/plain": [
              "0.7199689944489797"
            ]
          },
          "metadata": {},
          "execution_count": 31
        }
      ]
    },
    {
      "cell_type": "code",
      "source": [
        "problem.molecule"
      ],
      "metadata": {
        "colab": {
          "base_uri": "https://localhost:8080/"
        },
        "id": "w5WAqXads5L6",
        "outputId": "1b7075fd-31bf-43ca-9e82-348d616896c0"
      },
      "execution_count": 32,
      "outputs": [
        {
          "output_type": "execute_result",
          "data": {
            "text/plain": [
              "MoleculeInfo(symbols=['H', 'H'], coords=[(0.0, 0.0, 0.0), (0.0, 0.0, 1.3889487015553204)], multiplicity=1, charge=0, units=<DistanceUnit.BOHR: 'Bohr'>, masses=[1, 1])"
            ]
          },
          "metadata": {},
          "execution_count": 32
        }
      ]
    },
    {
      "cell_type": "code",
      "source": [
        "problem.reference_energy"
      ],
      "metadata": {
        "colab": {
          "base_uri": "https://localhost:8080/"
        },
        "id": "TvC3GU0Vs5CH",
        "outputId": "92edc0f0-5062-4125-cc61-73f47a70029f"
      },
      "execution_count": 33,
      "outputs": [
        {
          "output_type": "execute_result",
          "data": {
            "text/plain": [
              "-1.116998996754004"
            ]
          },
          "metadata": {},
          "execution_count": 33
        }
      ]
    },
    {
      "cell_type": "code",
      "source": [
        "problem.num_particles"
      ],
      "metadata": {
        "colab": {
          "base_uri": "https://localhost:8080/"
        },
        "id": "ci7Qq40Ts4-l",
        "outputId": "3ef9469b-7565-4572-878a-d8d67845d1b1"
      },
      "execution_count": 34,
      "outputs": [
        {
          "output_type": "execute_result",
          "data": {
            "text/plain": [
              "(1, 1)"
            ]
          },
          "metadata": {},
          "execution_count": 34
        }
      ]
    },
    {
      "cell_type": "code",
      "source": [
        "problem.num_spatial_orbitals"
      ],
      "metadata": {
        "colab": {
          "base_uri": "https://localhost:8080/"
        },
        "id": "tilguNc9s465",
        "outputId": "285b1074-529e-4169-f469-670dd12fa399"
      },
      "execution_count": 35,
      "outputs": [
        {
          "output_type": "execute_result",
          "data": {
            "text/plain": [
              "2"
            ]
          },
          "metadata": {},
          "execution_count": 35
        }
      ]
    },
    {
      "cell_type": "code",
      "source": [
        "problem.basis"
      ],
      "metadata": {
        "colab": {
          "base_uri": "https://localhost:8080/"
        },
        "id": "0N0lzNV_s44C",
        "outputId": "7ec19590-1991-4190-c2be-c3a8b6feb836"
      },
      "execution_count": 36,
      "outputs": [
        {
          "output_type": "execute_result",
          "data": {
            "text/plain": [
              "<ElectronicBasis.MO: 'molecular'>"
            ]
          },
          "metadata": {},
          "execution_count": 36
        }
      ]
    },
    {
      "cell_type": "code",
      "source": [
        "problem.properties.__dict__"
      ],
      "metadata": {
        "colab": {
          "base_uri": "https://localhost:8080/"
        },
        "id": "kcu4DLIps4vX",
        "outputId": "9e551940-78a2-49ba-e1b2-f7b26cc0a808"
      },
      "execution_count": 41,
      "outputs": [
        {
          "output_type": "execute_result",
          "data": {
            "text/plain": [
              "{'_properties': OrderedDict([('AngularMomentum',\n",
              "               <qiskit_nature.second_q.properties.angular_momentum.AngularMomentum at 0x78dfb3c58550>),\n",
              "              ('Magnetization',\n",
              "               <qiskit_nature.second_q.properties.magnetization.Magnetization at 0x78dfb3c58d60>),\n",
              "              ('ParticleNumber',\n",
              "               <qiskit_nature.second_q.properties.particle_number.ParticleNumber at 0x78dfb3c58a00>),\n",
              "              ('ElectronicDipoleMoment',\n",
              "               <qiskit_nature.second_q.properties.dipole_moment.ElectronicDipoleMoment at 0x78dfb3c58eb0>)])}"
            ]
          },
          "metadata": {},
          "execution_count": 41
        }
      ]
    },
    {
      "cell_type": "code",
      "source": [
        "problem.properties.particle_number.__dict__\n"
      ],
      "metadata": {
        "colab": {
          "base_uri": "https://localhost:8080/"
        },
        "id": "rPocuebgtHJ4",
        "outputId": "47b6cbd7-d500-45f2-9105-b37878c77fe7"
      },
      "execution_count": 40,
      "outputs": [
        {
          "output_type": "execute_result",
          "data": {
            "text/plain": [
              "{'num_spatial_orbitals': 2}"
            ]
          },
          "metadata": {},
          "execution_count": 40
        }
      ]
    },
    {
      "cell_type": "code",
      "source": [
        "problem.properties.angular_momentum.__dict__"
      ],
      "metadata": {
        "colab": {
          "base_uri": "https://localhost:8080/"
        },
        "id": "vaaIw5SbtHGj",
        "outputId": "f863b278-fe0b-45b7-f251-fbc4dafc954d"
      },
      "execution_count": 42,
      "outputs": [
        {
          "output_type": "execute_result",
          "data": {
            "text/plain": [
              "{'num_spatial_orbitals': 2, 'overlap': None}"
            ]
          },
          "metadata": {},
          "execution_count": 42
        }
      ]
    },
    {
      "cell_type": "code",
      "source": [
        "problem.properties.magnetization.__dict__"
      ],
      "metadata": {
        "colab": {
          "base_uri": "https://localhost:8080/"
        },
        "id": "j5Hc9Y2UtHDH",
        "outputId": "410b0973-7c0b-4f9d-99d6-a0da0dc692c1"
      },
      "execution_count": 43,
      "outputs": [
        {
          "output_type": "execute_result",
          "data": {
            "text/plain": [
              "{'num_spatial_orbitals': 2}"
            ]
          },
          "metadata": {},
          "execution_count": 43
        }
      ]
    },
    {
      "cell_type": "code",
      "source": [
        "problem.properties.electronic_dipole_moment.__dict__"
      ],
      "metadata": {
        "colab": {
          "base_uri": "https://localhost:8080/"
        },
        "id": "6kh7MJ7ZtHAh",
        "outputId": "36e3888c-efd8-4643-ec1b-bd98a9497d72"
      },
      "execution_count": 44,
      "outputs": [
        {
          "output_type": "execute_result",
          "data": {
            "text/plain": [
              "{'x_dipole': <qiskit_nature.second_q.operators.electronic_integrals.ElectronicIntegrals at 0x78dfb3c5b9a0>,\n",
              " 'y_dipole': <qiskit_nature.second_q.operators.electronic_integrals.ElectronicIntegrals at 0x78dfb3c5ab00>,\n",
              " 'z_dipole': <qiskit_nature.second_q.operators.electronic_integrals.ElectronicIntegrals at 0x78dfb3c5b6a0>,\n",
              " 'constants': {'nuclear_dipole_moment': array([0.       , 0.       , 1.3889487])},\n",
              " 'reverse_dipole_sign': True}"
            ]
          },
          "metadata": {},
          "execution_count": 44
        }
      ]
    },
    {
      "cell_type": "code",
      "source": [],
      "metadata": {
        "id": "WXRim6x3tG3p"
      },
      "execution_count": null,
      "outputs": []
    },
    {
      "cell_type": "code",
      "source": [],
      "metadata": {
        "id": "fmHc10_VtGqH"
      },
      "execution_count": null,
      "outputs": []
    },
    {
      "cell_type": "code",
      "source": [],
      "metadata": {
        "id": "_dpnnctns4hB"
      },
      "execution_count": null,
      "outputs": []
    },
    {
      "cell_type": "code",
      "source": [
        "from qiskit_nature.second_q.mappers import JordanWignerMapper\n",
        "\n",
        "mapper = JordanWignerMapper()\n",
        "mapper.__dict__"
      ],
      "metadata": {
        "colab": {
          "base_uri": "https://localhost:8080/"
        },
        "id": "rnbJT1PEnSqB",
        "outputId": "2635ab7a-cd4b-4dfd-babe-3af81ff661f0"
      },
      "execution_count": 15,
      "outputs": [
        {
          "output_type": "execute_result",
          "data": {
            "text/plain": [
              "{}"
            ]
          },
          "metadata": {},
          "execution_count": 15
        }
      ]
    },
    {
      "cell_type": "code",
      "source": [
        "from qiskit_algorithms import NumPyMinimumEigensolver\n",
        "\n",
        "numpy_solver = NumPyMinimumEigensolver()\n",
        "numpy_solver.__dict__"
      ],
      "metadata": {
        "colab": {
          "base_uri": "https://localhost:8080/"
        },
        "id": "JKvN8brGnWKQ",
        "outputId": "3c8d5b59-7354-4b6e-c166-09216de57cf6"
      },
      "execution_count": 16,
      "outputs": [
        {
          "output_type": "execute_result",
          "data": {
            "text/plain": [
              "{'_eigensolver': <qiskit_algorithms.eigensolvers.numpy_eigensolver.NumPyEigensolver at 0x78dfb3c5be50>}"
            ]
          },
          "metadata": {},
          "execution_count": 16
        }
      ]
    },
    {
      "cell_type": "code",
      "source": [
        "from qiskit_algorithms import VQE\n",
        "from qiskit_algorithms.optimizers import SLSQP\n",
        "from qiskit.primitives import Estimator\n",
        "from qiskit_nature.second_q.circuit.library import HartreeFock, UCCSD\n",
        "\n",
        "ansatz = UCCSD(\n",
        "    problem.num_spatial_orbitals,\n",
        "    problem.num_particles,\n",
        "    mapper,\n",
        "    initial_state=HartreeFock(\n",
        "        problem.num_spatial_orbitals,\n",
        "        problem.num_particles,\n",
        "        mapper,\n",
        "    ),\n",
        ")\n",
        "\n",
        "vqe_solver = VQE(Estimator(), ansatz, SLSQP())\n",
        "vqe_solver.initial_point = [0.0] * ansatz.num_parameters\n"
      ],
      "metadata": {
        "id": "m2zzQshBnaQI"
      },
      "execution_count": 8,
      "outputs": []
    },
    {
      "cell_type": "code",
      "source": [
        "vqe_solver.__dict__"
      ],
      "metadata": {
        "colab": {
          "base_uri": "https://localhost:8080/"
        },
        "id": "KWUoy3bloGbx",
        "outputId": "2045599e-3941-4bdd-e6ce-980a6f8db432"
      },
      "execution_count": 17,
      "outputs": [
        {
          "output_type": "execute_result",
          "data": {
            "text/plain": [
              "{'estimator': <qiskit.primitives.estimator.Estimator at 0x78dfc0227610>,\n",
              " 'ansatz': <qiskit_nature.second_q.circuit.library.ansatzes.uccsd.UCCSD at 0x78dfc0227c70>,\n",
              " 'optimizer': <qiskit_algorithms.optimizers.slsqp.SLSQP at 0x78dfc0226fe0>,\n",
              " 'gradient': None,\n",
              " '_initial_point': [0.0, 0.0, 0.0],\n",
              " 'callback': None}"
            ]
          },
          "metadata": {},
          "execution_count": 17
        }
      ]
    },
    {
      "cell_type": "code",
      "source": [
        "from qiskit_algorithms import VQE\n",
        "from qiskit.circuit.library import TwoLocal\n",
        "\n",
        "tl_circuit = TwoLocal(\n",
        "    rotation_blocks=[\"h\", \"rx\"],\n",
        "    entanglement_blocks=\"cz\",\n",
        "    entanglement=\"full\",\n",
        "    reps=2,\n",
        "    parameter_prefix=\"y\",\n",
        ")\n",
        "\n",
        "another_solver = VQE(Estimator(), tl_circuit, SLSQP())"
      ],
      "metadata": {
        "id": "3WELrl08ndrv"
      },
      "execution_count": 9,
      "outputs": []
    },
    {
      "cell_type": "code",
      "source": [
        "another_solver.__dict__"
      ],
      "metadata": {
        "colab": {
          "base_uri": "https://localhost:8080/"
        },
        "id": "i3F1FquEoM4T",
        "outputId": "e81f349d-c745-4a7d-9734-7790eccb6d0a"
      },
      "execution_count": 18,
      "outputs": [
        {
          "output_type": "execute_result",
          "data": {
            "text/plain": [
              "{'estimator': <qiskit.primitives.estimator.Estimator at 0x78dffcdb60e0>,\n",
              " 'ansatz': <qiskit.circuit.library.n_local.two_local.TwoLocal at 0x78dfc0227880>,\n",
              " 'optimizer': <qiskit_algorithms.optimizers.slsqp.SLSQP at 0x78dfc0226ce0>,\n",
              " 'gradient': None,\n",
              " '_initial_point': None,\n",
              " 'callback': None}"
            ]
          },
          "metadata": {},
          "execution_count": 18
        }
      ]
    },
    {
      "cell_type": "code",
      "source": [
        "from qiskit_nature.second_q.algorithms import GroundStateEigensolver\n",
        "\n",
        "calc = GroundStateEigensolver(mapper, vqe_solver)"
      ],
      "metadata": {
        "id": "-lmyoMwanf7j"
      },
      "execution_count": 10,
      "outputs": []
    },
    {
      "cell_type": "code",
      "source": [
        "res = calc.solve(problem)\n",
        "print(res)"
      ],
      "metadata": {
        "colab": {
          "base_uri": "https://localhost:8080/"
        },
        "id": "AL6vHvjgqHvH",
        "outputId": "4727314e-1543-490e-9ed1-ec65dc4d5129"
      },
      "execution_count": 25,
      "outputs": [
        {
          "output_type": "stream",
          "name": "stdout",
          "text": [
            "=== GROUND STATE ENERGY ===\n",
            " \n",
            "* Electronic ground state energy (Hartree): -1.857275030144\n",
            "  - computed part:      -1.857275030144\n",
            "~ Nuclear repulsion energy (Hartree): 0.719968994449\n",
            "> Total ground state energy (Hartree): -1.137306035695\n",
            " \n",
            "=== MEASURED OBSERVABLES ===\n",
            " \n",
            "  0:  # Particles: 2.000 S: 0.000 S^2: 0.000 M: 0.000\n",
            " \n",
            "=== DIPOLE MOMENTS ===\n",
            " \n",
            "~ Nuclear dipole moment (a.u.): [0.0  0.0  1.3889487]\n",
            " \n",
            "  0: \n",
            "  * Electronic dipole moment (a.u.): [0.0  0.0  1.388948929727]\n",
            "    - computed part:      [0.0  0.0  1.388948929727]\n",
            "  > Dipole moment (a.u.): [0.0  0.0  -0.000000229727]  Total: 0.000000229727\n",
            "                 (debye): [0.0  0.0  -0.000000583907]  Total: 0.000000583907\n",
            " \n"
          ]
        }
      ]
    },
    {
      "cell_type": "code",
      "source": [
        "calc = GroundStateEigensolver(mapper, numpy_solver)\n",
        "res = calc.solve(problem)\n",
        "print(res)"
      ],
      "metadata": {
        "colab": {
          "base_uri": "https://localhost:8080/"
        },
        "id": "xcem3SAuqSCA",
        "outputId": "65683703-f3b9-45df-e1f8-71832ab43f45"
      },
      "execution_count": 27,
      "outputs": [
        {
          "output_type": "stream",
          "name": "stdout",
          "text": [
            "=== GROUND STATE ENERGY ===\n",
            " \n",
            "* Electronic ground state energy (Hartree): -1.857275030202\n",
            "  - computed part:      -1.857275030202\n",
            "~ Nuclear repulsion energy (Hartree): 0.719968994449\n",
            "> Total ground state energy (Hartree): -1.137306035753\n",
            " \n",
            "=== MEASURED OBSERVABLES ===\n",
            " \n",
            "  0:  # Particles: 2.000 S: 0.000 S^2: 0.000 M: 0.000\n",
            " \n",
            "=== DIPOLE MOMENTS ===\n",
            " \n",
            "~ Nuclear dipole moment (a.u.): [0.0  0.0  1.3889487]\n",
            " \n",
            "  0: \n",
            "  * Electronic dipole moment (a.u.): [0.0  0.0  1.388948701555]\n",
            "    - computed part:      [0.0  0.0  1.388948701555]\n",
            "  > Dipole moment (a.u.): [0.0  0.0  -0.000000001555]  Total: 0.000000001555\n",
            "                 (debye): [0.0  0.0  -0.000000003953]  Total: 0.000000003953\n",
            " \n"
          ]
        }
      ]
    },
    {
      "cell_type": "code",
      "source": [
        "calc.__dict__"
      ],
      "metadata": {
        "colab": {
          "base_uri": "https://localhost:8080/"
        },
        "id": "PRa2y0snno8J",
        "outputId": "e277dd41-9fb3-4dd0-e4d7-1ffff1faa78c"
      },
      "execution_count": 14,
      "outputs": [
        {
          "output_type": "execute_result",
          "data": {
            "text/plain": [
              "{'_qubit_mapper': <qiskit_nature.second_q.mappers.jordan_wigner_mapper.JordanWignerMapper at 0x78dffcdb43d0>,\n",
              " '_solver': <qiskit_algorithms.minimum_eigensolvers.vqe.VQE at 0x78dfc0226bc0>}"
            ]
          },
          "metadata": {},
          "execution_count": 14
        }
      ]
    },
    {
      "cell_type": "code",
      "source": [
        "from qiskit_algorithms import NumPyMinimumEigensolver\n",
        "from qiskit_nature.second_q.algorithms import GroundStateEigensolver\n",
        "from qiskit_nature.second_q.mappers import JordanWignerMapper\n",
        "\n",
        "solver = GroundStateEigensolver(\n",
        "    JordanWignerMapper(),\n",
        "    NumPyMinimumEigensolver(),\n",
        ")"
      ],
      "metadata": {
        "id": "GwuPbmCRnt3r"
      },
      "execution_count": 19,
      "outputs": []
    },
    {
      "cell_type": "code",
      "source": [
        "result = solver.solve(problem)\n",
        "print(result)"
      ],
      "metadata": {
        "colab": {
          "base_uri": "https://localhost:8080/"
        },
        "id": "chQn66Emo0VF",
        "outputId": "c9a5e0c0-3adf-4016-a55c-6c065960151c"
      },
      "execution_count": 20,
      "outputs": [
        {
          "output_type": "stream",
          "name": "stdout",
          "text": [
            "=== GROUND STATE ENERGY ===\n",
            " \n",
            "* Electronic ground state energy (Hartree): -1.857275030202\n",
            "  - computed part:      -1.857275030202\n",
            "~ Nuclear repulsion energy (Hartree): 0.719968994449\n",
            "> Total ground state energy (Hartree): -1.137306035753\n",
            " \n",
            "=== MEASURED OBSERVABLES ===\n",
            " \n",
            "  0:  # Particles: 2.000 S: 0.000 S^2: 0.000 M: 0.000\n",
            " \n",
            "=== DIPOLE MOMENTS ===\n",
            " \n",
            "~ Nuclear dipole moment (a.u.): [0.0  0.0  1.3889487]\n",
            " \n",
            "  0: \n",
            "  * Electronic dipole moment (a.u.): [0.0  0.0  1.388948701555]\n",
            "    - computed part:      [0.0  0.0  1.388948701555]\n",
            "  > Dipole moment (a.u.): [0.0  0.0  -0.000000001555]  Total: 0.000000001555\n",
            "                 (debye): [0.0  0.0  -0.000000003953]  Total: 0.000000003953\n",
            " \n"
          ]
        }
      ]
    },
    {
      "cell_type": "code",
      "source": [],
      "metadata": {
        "colab": {
          "base_uri": "https://localhost:8080/"
        },
        "id": "Wpsn6t-6o2SV",
        "outputId": "ff7dbfee-7dfe-46d1-9e18-fa019a060c78"
      },
      "execution_count": 23,
      "outputs": [
        {
          "output_type": "stream",
          "name": "stderr",
          "text": [
            "UsageError: Line magic function `%version_table` not found.\n"
          ]
        }
      ]
    },
    {
      "cell_type": "code",
      "source": [],
      "metadata": {
        "id": "eIww24Rxo77W"
      },
      "execution_count": null,
      "outputs": []
    }
  ]
}